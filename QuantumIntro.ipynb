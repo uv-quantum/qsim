{
 "cells": [
  {
   "cell_type": "code",
   "execution_count": 6,
   "id": "b23993e4-a97a-4cf5-b3a2-a9a9676d6830",
   "metadata": {},
   "outputs": [],
   "source": [
    "import matplotlib.pyplot as plt"
   ]
  },
  {
   "cell_type": "markdown",
   "id": "025339c5-40d9-42a9-b4b1-19dcc99ec0a1",
   "metadata": {},
   "source": [
    "## Data structures"
   ]
  },
  {
   "cell_type": "code",
   "execution_count": 1,
   "id": "69e2179d-b868-453b-a712-bb0ad120a0b0",
   "metadata": {},
   "outputs": [],
   "source": [
    "from __future__ import annotations\n",
    "from dataclasses import dataclass\n",
    "from functools import reduce\n",
    "from typing import List\n",
    "from multimethod import multimethod\n",
    "import math\n",
    "\n",
    "\n",
    "@dataclass\n",
    "class Qbits:\n",
    "    vector : List[float] #column vector\n",
    "    # tensor product: multiply each element of another array by\n",
    "    # all the elements of this array\n",
    "    @multimethod\n",
    "    def __mul__(self, q: Qbits) -> Qbits:\n",
    "        v = []\n",
    "        for x in q.vector:\n",
    "            for y in self.vector:\n",
    "                v.append(x * y)\n",
    "        return Qbits(v)\n",
    "    @multimethod\n",
    "    def __mul__(self, s: float) -> Qbits:\n",
    "        return Qbits([s * x for x in self.vector])\n",
    "    def __rmul__(self, s: float) -> Qbits:\n",
    "        return self.__mul__(s)\n",
    "    \n",
    "@dataclass\n",
    "class Qbit:\n",
    "    vector : List[float] #column vector\n",
    "    @multimethod\n",
    "    def __mul__(self, q: Qbit) -> Qbits:\n",
    "        v = [0.] * 4\n",
    "        v[0] = self.vector[0] * q.vector[0]\n",
    "        v[1] = self.vector[1] * q.vector[0]\n",
    "        v[2] = self.vector[0] * q.vector[1]\n",
    "        v[3] = self.vector[1] * q.vector[1]\n",
    "        return Qbits(v)\n",
    "    @multimethod\n",
    "    def __mul__(self, s: float) -> Qbit:\n",
    "        return Qbit([s * self.vector[0], s * self.vector[1]])\n",
    "    def __rmul__(self, s: float) -> Qbit:\n",
    "        return self.__mul__(s)\n",
    "   \n",
    "@dataclass\n",
    "class Gate:\n",
    "    matrix : List[List[float]]\n",
    "    # 2x2 Matrix x  2 d column vector\n",
    "    @multimethod\n",
    "    def __mul__(self, q: Qbit) -> Qbit:\n",
    "        return Qbit([self.matrix[0][0] * q.vector[0] + self.matrix[0][1] * q.vector[1], \n",
    "                     self.matrix[1][0] * q.vector[0] + self.matrix[1][1] * q.vector[1]])\n",
    "    # n x n matrix * 1 x n column vector\n",
    "    @multimethod\n",
    "    def __mul__(self, q: Qbits) -> Qbits:\n",
    "        v = [0.] * len(self.matrix)\n",
    "        for r in range(len(self.matrix)):\n",
    "            for c in range(len(self.matrix[0])):\n",
    "                v[r] += self.matrix[r][c] * q.vector[c]\n",
    "        return Qbits(v)"
   ]
  },
  {
   "cell_type": "markdown",
   "id": "45bfc506-9ad3-4319-b75c-86bd8d094651",
   "metadata": {},
   "source": [
    "## Functions"
   ]
  },
  {
   "cell_type": "code",
   "execution_count": 2,
   "id": "504d3815-cbb2-4651-9449-abe4d37603d2",
   "metadata": {},
   "outputs": [],
   "source": [
    "def zero() -> Qbit:\n",
    "    return Qbit([1,0])\n",
    "\n",
    "def one() -> Qbit:\n",
    "    return Qbit([0,1])\n",
    "\n",
    "def qbits(t: str) -> Qbits | Qbit:\n",
    "    #least significant bit to the right\n",
    "    t = t[::-1]\n",
    "    v = []\n",
    "    for b in t:\n",
    "        if b == '1':\n",
    "            v.append(1)\n",
    "        elif b == '0':\n",
    "            v.append(0)\n",
    "        else:\n",
    "            raise Exception(f\"Wrong qbit format '{b}'\")\n",
    "    if len(v) == 2:\n",
    "        return Qbit(v)\n",
    "    else:\n",
    "        return Qbits(v)\n",
    "\n",
    "def entangled_qbits(t: str) -> Qbits | Qbit:\n",
    "    v = []\n",
    "    #least significant bit to the right\n",
    "    t = t[::-1]\n",
    "    for b in t:\n",
    "        if b == '1':\n",
    "            v.append(one())\n",
    "        elif b == '0':\n",
    "            v.append(zero())\n",
    "        else:\n",
    "            raise Exception(f\"Wrong qbit format '{b}'\")\n",
    "    if len(v) == 1:\n",
    "        return v[0]\n",
    "    else:\n",
    "        return reduce(lambda x, y: x * y, v)\n",
    "\n",
    "def ntobin(n: int, digits: int) -> [int]:\n",
    "    v = []\n",
    "    while n:\n",
    "        v.append(n % 2)\n",
    "        n = n // 2\n",
    "    return v + [0] * (digits-len(v))\n",
    "\n",
    "def qbit(d: int) -> Qbit:\n",
    "    if d == 0:\n",
    "        return zero()\n",
    "    elif d == 1:\n",
    "        return one()\n",
    "    else:\n",
    "        raise Exception(f\"Invalid number '{d}'\")\n",
    "\n",
    "def zero() -> Qbit:\n",
    "    return Qbit([1,0])\n",
    "\n",
    "def one() -> Qbit:\n",
    "    return Qbit([0,1])\n",
    "\n",
    "def qbits(t: str) -> Qbits | Qbit:\n",
    "    #least significant bit to the right\n",
    "    t = t[::-1]\n",
    "    v = []\n",
    "    for b in t:\n",
    "        if b == '1':\n",
    "            v.append(1)\n",
    "        elif b == '0':\n",
    "            v.append(0)\n",
    "        else:\n",
    "            raise Exception(f\"Wrong qbit format '{b}'\")\n",
    "    if len(v) == 2:\n",
    "        return Qbit(v)\n",
    "    else:\n",
    "        return Qbits(v)\n",
    "\n",
    "def disentangle(q: Qbits) -> [Qbits]:\n",
    "    N = len(q.vector)\n",
    "    QN = int(math.log2(N))\n",
    "    v = [Qbits([0.] * QN)] * N\n",
    "    for i in range(N):\n",
    "        v[i] = q.vector[i] * Qbits(ntobin(i, QN))\n",
    "    return v"
   ]
  },
  {
   "cell_type": "markdown",
   "id": "981bc44d-0a1c-427d-8b48-aa247d523bd3",
   "metadata": {},
   "source": [
    "## Gates"
   ]
  },
  {
   "cell_type": "code",
   "execution_count": 9,
   "id": "49677abf-1600-4002-8d11-73351b00e059",
   "metadata": {},
   "outputs": [],
   "source": [
    "import math\n",
    "\n",
    "def H(q: Qbit) -> Qbit:\n",
    "    sq = 1/math.sqrt(2)\n",
    "    return Gate([[sq,  sq],\n",
    "                 [sq, -sq]]) * q\n",
    "def X(q: Qbit) -> Qbit:\n",
    "    return Gate([[0,1],[1,0]]) * q\n",
    "\n",
    "def Y(q: Qbit) -> Qbit:\n",
    "    return Gate([[0,-1j],[1j,0]]) * q\n",
    "\n",
    "def Z(q: Qbit) -> Qbit:\n",
    "    return Gate([[1, 0], [0,-1]])\n",
    "\n",
    "def S(q: Qbit) -> Qbit:\n",
    "    return Gate([[1,0], [0, 1j]])\n",
    "\n",
    "def T(q: Qbit) -> Qbit:\n",
    "    return Gate([[1,0], [0, math.cos(math.pi/4) + 1j * math.sin(math.pi/4))\n",
    "\n",
    "def CZ(q: Qbits) -> Qbits:\n",
    "    return Gate([[1,0,0,0],\n",
    "                 [0,1,0,0],\n",
    "                 [0,0,1,0],\n",
    "                 [0,0,0,-1]]) * q\n",
    "\n",
    "def SWAP(q: Qbits) -> Qbits:\n",
    "    return Gate([[1,0,0,0],\n",
    "                 [0,0,1,0],\n",
    "                 [0,1,0,0],\n",
    "                 [0,0,0,1]]) * q\n",
    "\n",
    "def CNOT(q: Qbits) -> Qbits:\n",
    "    return Gate([[1,0,0,0],\n",
    "                 [0,1,0,0],\n",
    "                 [0,0,0,1],\n",
    "                 [0,0,1,0]]) * q\n",
    "\n",
    "def Toffoli(q: Qbits) -> Qbits:\n",
    "    return Gate([[1, 0, 0, 0, 0, 0, 0, 0],\n",
    "                 [0, 1, 0, 0, 0, 0, 0, 0],\n",
    "                 [0, 0, 1, 0, 0, 0, 0, 0],\n",
    "                 [0, 0, 0, 1, 0, 0, 0, 0],\n",
    "                 [0, 0, 0, 0, 1, 0, 0, 0],\n",
    "                 [0, 0, 0, 0, 0, 1, 0, 0],\n",
    "                 [0, 0, 0, 0, 0, 0, 0, 1],\n",
    "                 [0, 0, 0, 0, 0, 0, 1, 0]]) * q"
   ]
  },
  {
   "cell_type": "markdown",
   "id": "f5cdf23c-039c-4be4-bafa-5d7a8769b1e5",
   "metadata": {},
   "source": [
    "## Circuits"
   ]
  },
  {
   "cell_type": "code",
   "execution_count": 4,
   "id": "883f3d9e-800a-49d5-8350-5f5bdd54aa0a",
   "metadata": {},
   "outputs": [
    {
     "name": "stdout",
     "output_type": "stream",
     "text": [
      "Qbits(vector=[0.0, 0.0, 0.7071067811865475, 0.7071067811865475])\n",
      "[Qbits(vector=[0.0, 0.0]), Qbits(vector=[0.0, 0.0]), Qbits(vector=[0.0, 0.7071067811865475]), Qbits(vector=[0.7071067811865475, 0.7071067811865475])]\n"
     ]
    }
   ],
   "source": [
    "c1 = H(zero())\n",
    "c2 = one()\n",
    "print(c1*c2)\n",
    "print(disentangle(c1*c2))"
   ]
  },
  {
   "cell_type": "code",
   "execution_count": 10,
   "id": "96fe7e08-a7ac-439f-90d2-a1a28785d011",
   "metadata": {},
   "outputs": [
    {
     "data": {
      "text/plain": [
       "Qbit(vector=[-1j, 0j])"
      ]
     },
     "execution_count": 10,
     "metadata": {},
     "output_type": "execute_result"
    }
   ],
   "source": [
    "[[H,CNOT,H, _      ],\n",
    " [H,_   ,H, Toffoli],\n",
    " [_,_   ,_, _      ]]"
   ]
  },
  {
   "cell_type": "code",
   "execution_count": 2,
   "id": "abed1c82-31cb-4700-b8a9-7fa96eb5d0ce",
   "metadata": {},
   "outputs": [
    {
     "data": {
      "text/plain": [
       "[]"
      ]
     },
     "execution_count": 2,
     "metadata": {},
     "output_type": "execute_result"
    }
   ],
   "source": [
    "[2] * (-2)"
   ]
  },
  {
   "cell_type": "code",
   "execution_count": 16,
   "id": "b6936702-9c00-4f7c-98b9-8d30075c1d57",
   "metadata": {},
   "outputs": [
    {
     "data": {
      "text/plain": [
       "[0, 1]"
      ]
     },
     "execution_count": 16,
     "metadata": {},
     "output_type": "execute_result"
    }
   ],
   "source": [
    "ntobin(1,1)"
   ]
  },
  {
   "cell_type": "code",
   "execution_count": 12,
   "id": "a509b0e7-4727-4c06-a608-c5002107b8dd",
   "metadata": {},
   "outputs": [
    {
     "data": {
      "text/plain": [
       "[1, 2, 3]"
      ]
     },
     "execution_count": 12,
     "metadata": {},
     "output_type": "execute_result"
    }
   ],
   "source": [
    "[1,2] + [3]"
   ]
  },
  {
   "cell_type": "code",
   "execution_count": 17,
   "id": "26d4b0ef-f1df-40fb-8634-bf105eb3514a",
   "metadata": {},
   "outputs": [
    {
     "data": {
      "text/plain": [
       "1"
      ]
     },
     "execution_count": 17,
     "metadata": {},
     "output_type": "execute_result"
    }
   ],
   "source": [
    "1 % 2"
   ]
  },
  {
   "cell_type": "code",
   "execution_count": 12,
   "id": "7ae077a7-5f8d-431a-80d1-25372065894f",
   "metadata": {},
   "outputs": [
    {
     "data": {
      "text/plain": [
       "Qbit(vector=[-1j, 0j])"
      ]
     },
     "execution_count": 12,
     "metadata": {},
     "output_type": "execute_result"
    }
   ],
   "source": [
    "_"
   ]
  },
  {
   "cell_type": "code",
   "execution_count": null,
   "id": "3afcab01-2142-4e38-ba63-9969e6742e5a",
   "metadata": {},
   "outputs": [],
   "source": []
  }
 ],
 "metadata": {
  "kernelspec": {
   "display_name": "Python 3 (ipykernel)",
   "language": "python",
   "name": "python3"
  },
  "language_info": {
   "codemirror_mode": {
    "name": "ipython",
    "version": 3
   },
   "file_extension": ".py",
   "mimetype": "text/x-python",
   "name": "python",
   "nbconvert_exporter": "python",
   "pygments_lexer": "ipython3",
   "version": "3.11.6"
  }
 },
 "nbformat": 4,
 "nbformat_minor": 5
}
